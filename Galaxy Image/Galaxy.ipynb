{
 "cells": [
  {
   "cell_type": "code",
   "execution_count": 3,
   "id": "810ca3c7-2857-46fc-86b4-258b9de8a6fe",
   "metadata": {},
   "outputs": [],
   "source": [
    "# Import necessary libraries\n",
    "from PIL import Image, ImageDraw\n",
    "import random"
   ]
  },
  {
   "cell_type": "code",
   "execution_count": 4,
   "id": "bef83296-13b9-4563-b01d-2c4b81f084df",
   "metadata": {},
   "outputs": [],
   "source": [
    "# Create an image\n",
    "width = 500\n",
    "height = 500\n",
    "image = Image.new(\"RGB\", (width, height), (255, 255, 255))\n",
    "draw = ImageDraw.Draw(image)"
   ]
  },
  {
   "cell_type": "code",
   "execution_count": 5,
   "id": "7dc75070-e24a-42f9-9bfe-dbde3cee3ea0",
   "metadata": {},
   "outputs": [],
   "source": [
    "# Generate random circles\n",
    "for i in range(1000):\n",
    "    x = random.randint(0, width)\n",
    "    y = random.randint(0, height)\n",
    "    size = random.randint(1, 10)\n",
    "    color = (random.randint(0, 255), random.randint(0, 255), random.randint(0, 255))\n",
    "    draw.ellipse((x-size, y-size, x+size, y+size), fill=color)"
   ]
  },
  {
   "cell_type": "code",
   "execution_count": 6,
   "id": "bf0b1e70-08d1-4d97-a73b-11209d5715c1",
   "metadata": {},
   "outputs": [],
   "source": [
    "# Save the image\n",
    "image.save(\"galaxy.png\")"
   ]
  }
 ],
 "metadata": {
  "kernelspec": {
   "display_name": "Python 3 (ipykernel)",
   "language": "python",
   "name": "python3"
  },
  "language_info": {
   "codemirror_mode": {
    "name": "ipython",
    "version": 3
   },
   "file_extension": ".py",
   "mimetype": "text/x-python",
   "name": "python",
   "nbconvert_exporter": "python",
   "pygments_lexer": "ipython3",
   "version": "3.11.3"
  }
 },
 "nbformat": 4,
 "nbformat_minor": 5
}
