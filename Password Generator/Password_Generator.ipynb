{
 "cells": [
  {
   "cell_type": "code",
   "execution_count": 1,
   "id": "515779c5-b687-48a8-bd3e-8b6f1a007437",
   "metadata": {},
   "outputs": [],
   "source": [
    "# Import necessary libraries\n",
    "import random\n",
    "import string"
   ]
  },
  {
   "cell_type": "code",
   "execution_count": 4,
   "id": "46ef1741-a14b-4c11-bb0b-62fee0960ef7",
   "metadata": {},
   "outputs": [
    {
     "name": "stdout",
     "output_type": "stream",
     "text": [
      "kA/Ke]#iNuL-pzI\\\n"
     ]
    }
   ],
   "source": [
    "def password_generator(length: int):\n",
    "    \"\"\"\n",
    "    Generates a random password of specified length\n",
    "\n",
    "    Parameters:\n",
    "    length (int): The length of the password to generate\n",
    "\n",
    "    Return:\n",
    "    str: The generated password\n",
    "    \"\"\"\n",
    "    # Define a string of all possible charaters for the passowrd\n",
    "    characters = string.ascii_letters + string.digits + string.punctuation\n",
    "\n",
    "    # Choose `length` random characters from the `characters` string\n",
    "    password = ''.join(random.choice(characters) for i in range(length))\n",
    "\n",
    "    # Return the generated password\n",
    "    return password\n",
    "\n",
    "# Example usage: Generate a password of length 16\n",
    "print(password_generator(16))"
   ]
  },
  {
   "cell_type": "code",
   "execution_count": 5,
   "id": "9ca4b698-e449-4d09-a7aa-2b7838857f77",
   "metadata": {},
   "outputs": [
    {
     "name": "stdout",
     "output_type": "stream",
     "text": [
      "gUx@\\|RO\"@E62I{l?\n"
     ]
    }
   ],
   "source": [
    "print(password_generator(17))"
   ]
  }
 ],
 "metadata": {
  "kernelspec": {
   "display_name": "Python 3 (ipykernel)",
   "language": "python",
   "name": "python3"
  },
  "language_info": {
   "codemirror_mode": {
    "name": "ipython",
    "version": 3
   },
   "file_extension": ".py",
   "mimetype": "text/x-python",
   "name": "python",
   "nbconvert_exporter": "python",
   "pygments_lexer": "ipython3",
   "version": "3.11.3"
  }
 },
 "nbformat": 4,
 "nbformat_minor": 5
}
